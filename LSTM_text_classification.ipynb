{
 "cells": [
  {
   "cell_type": "code",
   "execution_count": 1,
   "metadata": {
    "colab": {
     "base_uri": "https://localhost:8080/"
    },
    "id": "h0sHIdtLtzRe",
    "outputId": "a8ea2de1-92b9-45ff-822a-6983528d4bf7"
   },
   "outputs": [
    {
     "name": "stdout",
     "output_type": "stream",
     "text": [
      "Drive already mounted at /content/drive; to attempt to forcibly remount, call drive.mount(\"/content/drive\", force_remount=True).\n"
     ]
    }
   ],
   "source": [
    "from google.colab import drive\n",
    "drive.mount('/content/drive')"
   ]
  },
  {
   "cell_type": "code",
   "execution_count": 2,
   "metadata": {
    "id": "CGHo5nvVt-fX"
   },
   "outputs": [],
   "source": [
    "dataset_path = \"/content/drive/My Drive/lstm assginemtn/CC_usecase1.csv\""
   ]
  },
  {
   "cell_type": "code",
   "execution_count": 3,
   "metadata": {
    "id": "Z8KwCijqvvgI"
   },
   "outputs": [],
   "source": [
    "# Reading the data set and it's Descriptions"
   ]
  },
  {
   "cell_type": "code",
   "execution_count": 4,
   "metadata": {
    "id": "DTKVQ1nR257K"
   },
   "outputs": [],
   "source": [
    "import pandas as pd\n",
    "import numpy as np"
   ]
  },
  {
   "cell_type": "code",
   "execution_count": 5,
   "metadata": {
    "id": "Vej2oqcuwNu6"
   },
   "outputs": [],
   "source": [
    "df = pd.read_csv(dataset_path)"
   ]
  },
  {
   "cell_type": "code",
   "execution_count": 6,
   "metadata": {
    "colab": {
     "base_uri": "https://localhost:8080/"
    },
    "id": "hOakgd1JwRxr",
    "outputId": "31387824-b7b9-4a53-93b0-d96a9bb7a65e"
   },
   "outputs": [
    {
     "name": "stdout",
     "output_type": "stream",
     "text": [
      "The shape of the train dataset is (1502, 2)\n"
     ]
    }
   ],
   "source": [
    "print('The shape of the train dataset is {}'.format(df.shape))"
   ]
  },
  {
   "cell_type": "code",
   "execution_count": 7,
   "metadata": {
    "colab": {
     "base_uri": "https://localhost:8080/"
    },
    "id": "MZSNAnjWwVN4",
    "outputId": "f1356707-ec93-4a4d-fe55-d006e6b80092"
   },
   "outputs": [
    {
     "name": "stdout",
     "output_type": "stream",
     "text": [
      "Features in the Dataset :  ['Construction Description', 'Construction Code']\n"
     ]
    }
   ],
   "source": [
    "print(\"Features in the Dataset : \" , list(df.columns))"
   ]
  },
  {
   "cell_type": "code",
   "execution_count": 8,
   "metadata": {
    "colab": {
     "base_uri": "https://localhost:8080/",
     "height": 173
    },
    "id": "ZCecQs5KwWx0",
    "outputId": "82c0049d-083c-41b7-875b-dab9c2109515"
   },
   "outputs": [
    {
     "data": {
      "text/html": [
       "<div>\n",
       "<style scoped>\n",
       "    .dataframe tbody tr th:only-of-type {\n",
       "        vertical-align: middle;\n",
       "    }\n",
       "\n",
       "    .dataframe tbody tr th {\n",
       "        vertical-align: top;\n",
       "    }\n",
       "\n",
       "    .dataframe thead th {\n",
       "        text-align: right;\n",
       "    }\n",
       "</style>\n",
       "<table border=\"1\" class=\"dataframe\">\n",
       "  <thead>\n",
       "    <tr style=\"text-align: right;\">\n",
       "      <th></th>\n",
       "      <th>Construction Description</th>\n",
       "      <th>Construction Code</th>\n",
       "    </tr>\n",
       "  </thead>\n",
       "  <tbody>\n",
       "    <tr>\n",
       "      <th>count</th>\n",
       "      <td>1502</td>\n",
       "      <td>1502</td>\n",
       "    </tr>\n",
       "    <tr>\n",
       "      <th>unique</th>\n",
       "      <td>1493</td>\n",
       "      <td>7</td>\n",
       "    </tr>\n",
       "    <tr>\n",
       "      <th>top</th>\n",
       "      <td>Mod fire resistive</td>\n",
       "      <td>4</td>\n",
       "    </tr>\n",
       "    <tr>\n",
       "      <th>freq</th>\n",
       "      <td>2</td>\n",
       "      <td>688</td>\n",
       "    </tr>\n",
       "  </tbody>\n",
       "</table>\n",
       "</div>"
      ],
      "text/plain": [
       "       Construction Description Construction Code\n",
       "count                      1502              1502\n",
       "unique                     1493                 7\n",
       "top          Mod fire resistive                 4\n",
       "freq                          2               688"
      ]
     },
     "execution_count": 8,
     "metadata": {
      "tags": []
     },
     "output_type": "execute_result"
    }
   ],
   "source": [
    "df.describe()"
   ]
  },
  {
   "cell_type": "code",
   "execution_count": 9,
   "metadata": {
    "colab": {
     "base_uri": "https://localhost:8080/",
     "height": 142
    },
    "id": "xNWOut6XwZBR",
    "outputId": "f7d08c93-0ee7-48a3-de7e-ffe089812ca4"
   },
   "outputs": [
    {
     "data": {
      "text/html": [
       "<div>\n",
       "<style scoped>\n",
       "    .dataframe tbody tr th:only-of-type {\n",
       "        vertical-align: middle;\n",
       "    }\n",
       "\n",
       "    .dataframe tbody tr th {\n",
       "        vertical-align: top;\n",
       "    }\n",
       "\n",
       "    .dataframe thead th {\n",
       "        text-align: right;\n",
       "    }\n",
       "</style>\n",
       "<table border=\"1\" class=\"dataframe\">\n",
       "  <thead>\n",
       "    <tr style=\"text-align: right;\">\n",
       "      <th></th>\n",
       "      <th>Construction Description</th>\n",
       "      <th>Construction Code</th>\n",
       "    </tr>\n",
       "  </thead>\n",
       "  <tbody>\n",
       "    <tr>\n",
       "      <th>0</th>\n",
       "      <td>metal roof, wood floors, stucco interior and e...</td>\n",
       "      <td>1</td>\n",
       "    </tr>\n",
       "    <tr>\n",
       "      <th>1</th>\n",
       "      <td>70% Frame, 30% Masonry Veneer</td>\n",
       "      <td>1</td>\n",
       "    </tr>\n",
       "    <tr>\n",
       "      <th>2</th>\n",
       "      <td>ALL COMB (WOOD FRAME)</td>\n",
       "      <td>1</td>\n",
       "    </tr>\n",
       "  </tbody>\n",
       "</table>\n",
       "</div>"
      ],
      "text/plain": [
       "                            Construction Description Construction Code\n",
       "0  metal roof, wood floors, stucco interior and e...                 1\n",
       "1                      70% Frame, 30% Masonry Veneer                 1\n",
       "2                              ALL COMB (WOOD FRAME)                 1"
      ]
     },
     "execution_count": 9,
     "metadata": {
      "tags": []
     },
     "output_type": "execute_result"
    }
   ],
   "source": [
    "df.head(3)"
   ]
  },
  {
   "cell_type": "code",
   "execution_count": 10,
   "metadata": {
    "colab": {
     "base_uri": "https://localhost:8080/"
    },
    "id": "Yinc0QfhwdU_",
    "outputId": "9f2eaa78-84c1-45af-fd88-82fde256829a"
   },
   "outputs": [
    {
     "data": {
      "text/plain": [
       "4          688\n",
       "2          282\n",
       "3          197\n",
       "1          168\n",
       "6          101\n",
       "5           65\n",
       "Unknown      1\n",
       "Name: Construction Code, dtype: int64"
      ]
     },
     "execution_count": 10,
     "metadata": {
      "tags": []
     },
     "output_type": "execute_result"
    }
   ],
   "source": [
    "df[\"Construction Code\"].value_counts()"
   ]
  },
  {
   "cell_type": "code",
   "execution_count": 11,
   "metadata": {
    "colab": {
     "base_uri": "https://localhost:8080/"
    },
    "id": "rxWEuq8Zwf_u",
    "outputId": "0b77cd5e-3435-4bea-d656-c1af5da6a3e4"
   },
   "outputs": [
    {
     "name": "stdout",
     "output_type": "stream",
     "text": [
      "Data set Full Info: \n",
      "\n",
      "<class 'pandas.core.frame.DataFrame'>\n",
      "RangeIndex: 1502 entries, 0 to 1501\n",
      "Data columns (total 2 columns):\n",
      " #   Column                    Non-Null Count  Dtype \n",
      "---  ------                    --------------  ----- \n",
      " 0   Construction Description  1502 non-null   object\n",
      " 1   Construction Code         1502 non-null   object\n",
      "dtypes: object(2)\n",
      "memory usage: 23.6+ KB\n"
     ]
    }
   ],
   "source": [
    "print(\"Data set Full Info: \\n\")\n",
    "df.info()"
   ]
  },
  {
   "cell_type": "code",
   "execution_count": 12,
   "metadata": {
    "colab": {
     "base_uri": "https://localhost:8080/"
    },
    "id": "qebs8UA2wjgN",
    "outputId": "bcec9918-a893-48f2-e170-b61ac00a3147"
   },
   "outputs": [
    {
     "name": "stdout",
     "output_type": "stream",
     "text": [
      "Null values in Target variable :  0\n"
     ]
    }
   ],
   "source": [
    "print(\"Null values in Target variable : \" , df[\"Construction Code\"].isna().sum())"
   ]
  },
  {
   "cell_type": "code",
   "execution_count": 13,
   "metadata": {
    "colab": {
     "base_uri": "https://localhost:8080/"
    },
    "id": "5LKQuYePwqFr",
    "outputId": "a5a602c6-a0ff-4144-e4d7-114863ba2948"
   },
   "outputs": [
    {
     "name": "stdout",
     "output_type": "stream",
     "text": [
      "Uniques values in dataset according to each column : \n",
      "Construction Description    1493\n",
      "Construction Code              7\n",
      "dtype: int64\n"
     ]
    }
   ],
   "source": [
    "print(\"Uniques values in dataset according to each column : \")\n",
    "print(df.nunique(dropna=False))"
   ]
  },
  {
   "cell_type": "code",
   "execution_count": 14,
   "metadata": {
    "colab": {
     "base_uri": "https://localhost:8080/",
     "height": 302
    },
    "id": "rXqDNBNrwsbO",
    "outputId": "6dfe780b-0377-4a82-f103-9c2b7bf3a69a"
   },
   "outputs": [
    {
     "data": {
      "image/png": "[encoded data removed]",
      "text/plain": [
       "<Figure size 432x288 with 1 Axes>"
      ]
     },
     "metadata": {
      "tags": []
     },
     "output_type": "display_data"
    },
    {
     "data": {
      "text/plain": [
       "<Figure size 432x288 with 0 Axes>"
      ]
     },
     "metadata": {
      "tags": []
     },
     "output_type": "display_data"
    }
   ],
   "source": [
    "import matplotlib.pyplot as plt \n",
    "plt.rc(\"font\", size=14)\n",
    "\n",
    "import seaborn as sns\n",
    "sns.set(style=\"white\")\n",
    "sns.set(style=\"whitegrid\", color_codes=True)\n",
    "\n",
    "sns.countplot(x = \"Construction Code\", data = df, palette='hls')\n",
    "plt.show()\n",
    "plt.savefig('count_plot')"
   ]
  },
  {
   "cell_type": "code",
   "execution_count": 15,
   "metadata": {
    "colab": {
     "base_uri": "https://localhost:8080/"
    },
    "id": "Zsxv6qPyw2mm",
    "outputId": "eac1305f-2e4b-4f8c-a19b-6a9594a83ab7"
   },
   "outputs": [
    {
     "name": "stdout",
     "output_type": "stream",
     "text": [
      "brick and stucco\n",
      "Construction Code: 1\n",
      "Drywall Over Metal Studs\n",
      "Construction Code: 1\n"
     ]
    }
   ],
   "source": [
    "#### Method too know how the descriptions are look like\n",
    "\n",
    "def print_description(index):\n",
    "    example = df[df.index == index][['Construction Description', 'Construction Code']].values[0]\n",
    "    if len(example) > 0:\n",
    "        print(example[0])\n",
    "        print('Construction Code:', example[1])\n",
    "\n",
    "print_description(5)\n",
    "print_description(10)"
   ]
  },
  {
   "cell_type": "markdown",
   "metadata": {
    "id": "qiY0Iuq2zAKd"
   },
   "source": [
    "Data Preprocssing using NLTK "
   ]
  },
  {
   "cell_type": "code",
   "execution_count": 16,
   "metadata": {
    "id": "7PnTNabtxxYd"
   },
   "outputs": [],
   "source": [
    "# Expanding words in the Description Ex: I've = I have \n",
    "import re\n",
    "\n",
    "def clean_text(text):\n",
    "    text = text.lower()\n",
    "    text = re.sub(r\"what's\", \"what is \", text)\n",
    "    text = re.sub(r\"\\'s\", \" \", text)\n",
    "    text = re.sub(r\"\\'ve\", \" have \", text)\n",
    "    text = re.sub(r\"can't\", \"can not \", text)\n",
    "    text = re.sub(r\"n't\", \" not \", text)\n",
    "    text = re.sub(r\"i'm\", \"i am \", text)\n",
    "    text = re.sub(r\"\\'re\", \" are \", text)\n",
    "    text = re.sub(r\"\\'d\", \" would \", text)\n",
    "    text = re.sub(r\"\\'ll\", \" will \", text)\n",
    "    text = re.sub(r\"\\'scuse\", \" excuse \", text)\n",
    "    text = re.sub('\\W', ' ', text)\n",
    "    text = re.sub('\\s+', ' ', text)\n",
    "    text = text.strip(' ')\n",
    "    return text"
   ]
  },
  {
   "cell_type": "code",
   "execution_count": 17,
   "metadata": {
    "id": "b6B8LVAjzGpw"
   },
   "outputs": [],
   "source": [
    "df['Clean_text'] = df['Construction Description'].map(lambda com : clean_text(com))"
   ]
  },
  {
   "cell_type": "code",
   "execution_count": 18,
   "metadata": {
    "colab": {
     "base_uri": "https://localhost:8080/",
     "height": 142
    },
    "id": "bwUnNtV5zdCA",
    "outputId": "0e1644e8-8bc2-4d42-a2e5-74e00d205b62"
   },
   "outputs": [
    {
     "data": {
      "text/html": [
       "<div>\n",
       "<style scoped>\n",
       "    .dataframe tbody tr th:only-of-type {\n",
       "        vertical-align: middle;\n",
       "    }\n",
       "\n",
       "    .dataframe tbody tr th {\n",
       "        vertical-align: top;\n",
       "    }\n",
       "\n",
       "    .dataframe thead th {\n",
       "        text-align: right;\n",
       "    }\n",
       "</style>\n",
       "<table border=\"1\" class=\"dataframe\">\n",
       "  <thead>\n",
       "    <tr style=\"text-align: right;\">\n",
       "      <th></th>\n",
       "      <th>Construction Description</th>\n",
       "      <th>Construction Code</th>\n",
       "      <th>Clean_text</th>\n",
       "    </tr>\n",
       "  </thead>\n",
       "  <tbody>\n",
       "    <tr>\n",
       "      <th>0</th>\n",
       "      <td>metal roof, wood floors, stucco interior and e...</td>\n",
       "      <td>1</td>\n",
       "      <td>metal roof wood floors stucco interior and ext...</td>\n",
       "    </tr>\n",
       "    <tr>\n",
       "      <th>1</th>\n",
       "      <td>70% Frame, 30% Masonry Veneer</td>\n",
       "      <td>1</td>\n",
       "      <td>70 frame 30 masonry veneer</td>\n",
       "    </tr>\n",
       "    <tr>\n",
       "      <th>2</th>\n",
       "      <td>ALL COMB (WOOD FRAME)</td>\n",
       "      <td>1</td>\n",
       "      <td>all comb wood frame</td>\n",
       "    </tr>\n",
       "  </tbody>\n",
       "</table>\n",
       "</div>"
      ],
      "text/plain": [
       "                            Construction Description  ...                                         Clean_text\n",
       "0  metal roof, wood floors, stucco interior and e...  ...  metal roof wood floors stucco interior and ext...\n",
       "1                      70% Frame, 30% Masonry Veneer  ...                         70 frame 30 masonry veneer\n",
       "2                              ALL COMB (WOOD FRAME)  ...                                all comb wood frame\n",
       "\n",
       "[3 rows x 3 columns]"
      ]
     },
     "execution_count": 18,
     "metadata": {
      "tags": []
     },
     "output_type": "execute_result"
    }
   ],
   "source": [
    "df.head(3)"
   ]
  },
  {
   "cell_type": "code",
   "execution_count": 19,
   "metadata": {
    "colab": {
     "base_uri": "https://localhost:8080/"
    },
    "id": "CAFS95dN0cNp",
    "outputId": "da464106-8d35-4d1f-d6ed-bbec33c96838"
   },
   "outputs": [
    {
     "name": "stdout",
     "output_type": "stream",
     "text": [
      "Requirement already satisfied: autocorrect in /usr/local/lib/python3.7/dist-packages (2.5.0)\n"
     ]
    }
   ],
   "source": [
    "!pip install autocorrect"
   ]
  },
  {
   "cell_type": "code",
   "execution_count": 20,
   "metadata": {
    "colab": {
     "base_uri": "https://localhost:8080/"
    },
    "id": "zRT--ya10vX_",
    "outputId": "976b62b7-2f29-4357-d24d-e6d5de98a45d"
   },
   "outputs": [
    {
     "name": "stdout",
     "output_type": "stream",
     "text": [
      "Requirement already satisfied: contractions in /usr/local/lib/python3.7/dist-packages (0.0.48)\n",
      "Requirement already satisfied: textsearch>=0.0.21 in /usr/local/lib/python3.7/dist-packages (from contractions) (0.0.21)\n",
      "Requirement already satisfied: anyascii in /usr/local/lib/python3.7/dist-packages (from textsearch>=0.0.21->contractions) (0.2.0)\n",
      "Requirement already satisfied: pyahocorasick in /usr/local/lib/python3.7/dist-packages (from textsearch>=0.0.21->contractions) (1.4.2)\n"
     ]
    }
   ],
   "source": [
    "!pip install contractions"
   ]
  },
  {
   "cell_type": "code",
   "execution_count": 19,
   "metadata": {
    "id": "mubeQYx7zt38"
   },
   "outputs": [],
   "source": [
    "import nltk\n",
    "from nltk.corpus import stopwords\n",
    "from nltk.stem import SnowballStemmer\n",
    "from nltk.stem import WordNetLemmatizer\n",
    "from string import punctuation\n",
    "from autocorrect import spell\n",
    "import contractions\n",
    "\n",
    "\n",
    "snowball_stemmer = SnowballStemmer('english')\n",
    "wordnet_lemmatizer = WordNetLemmatizer()"
   ]
  },
  {
   "cell_type": "code",
   "execution_count": 20,
   "metadata": {
    "colab": {
     "base_uri": "https://localhost:8080/"
    },
    "id": "Upcfu8XR0YxC",
    "outputId": "585b62be-8510-4b90-9a3b-69a9e2af288e"
   },
   "outputs": [
    {
     "name": "stdout",
     "output_type": "stream",
     "text": [
      "[nltk_data] Downloading package stopwords to /root/nltk_data...\n",
      "[nltk_data]   Package stopwords is already up-to-date!\n",
      "[nltk_data] Downloading package punkt to /root/nltk_data...\n",
      "[nltk_data]   Package punkt is already up-to-date!\n",
      "[nltk_data] Downloading package wordnet to /root/nltk_data...\n",
      "[nltk_data]   Package wordnet is already up-to-date!\n"
     ]
    },
    {
     "data": {
      "text/plain": [
       "True"
      ]
     },
     "execution_count": 20,
     "metadata": {
      "tags": []
     },
     "output_type": "execute_result"
    }
   ],
   "source": [
    "nltk.download('stopwords')\n",
    "nltk.download('punkt')\n",
    "nltk.download('wordnet')"
   ]
  },
  {
   "cell_type": "code",
   "execution_count": 21,
   "metadata": {
    "id": "117VPY641gMD"
   },
   "outputs": [],
   "source": [
    "def word_tokenize(text):\n",
    "        \"\"\"\n",
    "        :param text:\n",
    "        :return: list of words\n",
    "        \"\"\"\n",
    "        return [w for sent in nltk.sent_tokenize(text) for w in nltk.word_tokenize(sent)]"
   ]
  },
  {
   "cell_type": "code",
   "execution_count": 22,
   "metadata": {
    "id": "-fwFuNH10o6W"
   },
   "outputs": [],
   "source": [
    "def to_lower(text):\n",
    "        \"\"\"\n",
    "        :param text:\n",
    "        :return:\n",
    "            Converted text to lower case as in, converting \"Hello\" to \"hello\" or \"HELLO\" to \"hello\".\n",
    "        \"\"\"\n",
    "        return text.lower()"
   ]
  },
  {
   "cell_type": "code",
   "execution_count": 23,
   "metadata": {
    "id": "RQxjMSbe1YNL"
   },
   "outputs": [],
   "source": [
    "def lemmatize(text):\n",
    "\n",
    "        lemmatized_word = [wordnet_lemmatizer.lemmatize(word)for sent in nltk.sent_tokenize(text)for word in nltk.word_tokenize(sent)]\n",
    "        return \" \".join(lemmatized_word)"
   ]
  },
  {
   "cell_type": "code",
   "execution_count": 24,
   "metadata": {
    "id": "MTEMv5CL1Z60"
   },
   "outputs": [],
   "source": [
    "def remove_punct(text):\n",
    "        return ''.join(c for c in text if c not in punctuation)"
   ]
  },
  {
   "cell_type": "code",
   "execution_count": 25,
   "metadata": {
    "id": "a5y5maZB1cAw"
   },
   "outputs": [],
   "source": [
    "def remove_numbers(text):\n",
    "        \"\"\"\n",
    "        take string input and return a clean text without numbers.Use regex to discard the numbers.\n",
    "        \"\"\"\n",
    "        output = ''.join(c for c in text if not c.isdigit())\n",
    "        return output"
   ]
  },
  {
   "cell_type": "code",
   "execution_count": 26,
   "metadata": {
    "id": "EVjFOFyh1eQ1"
   },
   "outputs": [],
   "source": [
    "def remove_stopwords(sentence):\n",
    "        \"\"\"\n",
    "        removes all the stop words like \"is,the,a, etc.\"\n",
    "        \"\"\"\n",
    "        stop_words = stopwords.words('english')\n",
    "        return ' '.join([w for w in nltk.word_tokenize(sentence) if not w in stop_words])"
   ]
  },
  {
   "cell_type": "code",
   "execution_count": 27,
   "metadata": {
    "id": "Bvrb6lbz1iyU"
   },
   "outputs": [],
   "source": [
    "def pre_processing(text):\n",
    "    clean_text = remove_stopwords(text) \n",
    "    clean_text = remove_numbers(clean_text)\n",
    "    clean_text = remove_punct(clean_text)\n",
    "    clean_text = lemmatize(clean_text)\n",
    "    clean_text = to_lower(clean_text)\n",
    "    clean_text = word_tokenize(clean_text)\n",
    "\n",
    "    return clean_text"
   ]
  },
  {
   "cell_type": "code",
   "execution_count": 28,
   "metadata": {
    "id": "FDkGjNI91tTl"
   },
   "outputs": [],
   "source": [
    "df['Clean_text'] = df['Construction Description'].apply(pre_processing)"
   ]
  },
  {
   "cell_type": "code",
   "execution_count": 29,
   "metadata": {
    "colab": {
     "base_uri": "https://localhost:8080/",
     "height": 142
    },
    "id": "daZgz7hE1y2m",
    "outputId": "889c69e9-3a46-44cc-95b2-f192a0b940a4"
   },
   "outputs": [
    {
     "data": {
      "text/html": [
       "<div>\n",
       "<style scoped>\n",
       "    .dataframe tbody tr th:only-of-type {\n",
       "        vertical-align: middle;\n",
       "    }\n",
       "\n",
       "    .dataframe tbody tr th {\n",
       "        vertical-align: top;\n",
       "    }\n",
       "\n",
       "    .dataframe thead th {\n",
       "        text-align: right;\n",
       "    }\n",
       "</style>\n",
       "<table border=\"1\" class=\"dataframe\">\n",
       "  <thead>\n",
       "    <tr style=\"text-align: right;\">\n",
       "      <th></th>\n",
       "      <th>Construction Description</th>\n",
       "      <th>Construction Code</th>\n",
       "      <th>Clean_text</th>\n",
       "    </tr>\n",
       "  </thead>\n",
       "  <tbody>\n",
       "    <tr>\n",
       "      <th>0</th>\n",
       "      <td>metal roof, wood floors, stucco interior and e...</td>\n",
       "      <td>1</td>\n",
       "      <td>[metal, roof, wood, floor, stucco, interior, e...</td>\n",
       "    </tr>\n",
       "    <tr>\n",
       "      <th>1</th>\n",
       "      <td>70% Frame, 30% Masonry Veneer</td>\n",
       "      <td>1</td>\n",
       "      <td>[frame, masonry, veneer]</td>\n",
       "    </tr>\n",
       "    <tr>\n",
       "      <th>2</th>\n",
       "      <td>ALL COMB (WOOD FRAME)</td>\n",
       "      <td>1</td>\n",
       "      <td>[all, comb, wood, frame]</td>\n",
       "    </tr>\n",
       "  </tbody>\n",
       "</table>\n",
       "</div>"
      ],
      "text/plain": [
       "                            Construction Description  ...                                         Clean_text\n",
       "0  metal roof, wood floors, stucco interior and e...  ...  [metal, roof, wood, floor, stucco, interior, e...\n",
       "1                      70% Frame, 30% Masonry Veneer  ...                           [frame, masonry, veneer]\n",
       "2                              ALL COMB (WOOD FRAME)  ...                           [all, comb, wood, frame]\n",
       "\n",
       "[3 rows x 3 columns]"
      ]
     },
     "execution_count": 29,
     "metadata": {
      "tags": []
     },
     "output_type": "execute_result"
    }
   ],
   "source": [
    "df.head(3)"
   ]
  },
  {
   "cell_type": "code",
   "execution_count": 30,
   "metadata": {
    "id": "SXCRYkNP1032"
   },
   "outputs": [],
   "source": [
    "def clean_text(text):\n",
    "    return len(text)\n",
    "\n",
    "df['count_of_words'] = df['Clean_text'].map(lambda com : clean_text(com))"
   ]
  },
  {
   "cell_type": "code",
   "execution_count": 31,
   "metadata": {
    "colab": {
     "base_uri": "https://localhost:8080/",
     "height": 142
    },
    "id": "BvGpuuFN1_Gt",
    "outputId": "f97347cb-f6ef-444d-ec9d-79cfe9d5ef55"
   },
   "outputs": [
    {
     "data": {
      "text/html": [
       "<div>\n",
       "<style scoped>\n",
       "    .dataframe tbody tr th:only-of-type {\n",
       "        vertical-align: middle;\n",
       "    }\n",
       "\n",
       "    .dataframe tbody tr th {\n",
       "        vertical-align: top;\n",
       "    }\n",
       "\n",
       "    .dataframe thead th {\n",
       "        text-align: right;\n",
       "    }\n",
       "</style>\n",
       "<table border=\"1\" class=\"dataframe\">\n",
       "  <thead>\n",
       "    <tr style=\"text-align: right;\">\n",
       "      <th></th>\n",
       "      <th>Construction Description</th>\n",
       "      <th>Construction Code</th>\n",
       "      <th>Clean_text</th>\n",
       "      <th>count_of_words</th>\n",
       "    </tr>\n",
       "  </thead>\n",
       "  <tbody>\n",
       "    <tr>\n",
       "      <th>0</th>\n",
       "      <td>metal roof, wood floors, stucco interior and e...</td>\n",
       "      <td>1</td>\n",
       "      <td>[metal, roof, wood, floor, stucco, interior, e...</td>\n",
       "      <td>8</td>\n",
       "    </tr>\n",
       "    <tr>\n",
       "      <th>1</th>\n",
       "      <td>70% Frame, 30% Masonry Veneer</td>\n",
       "      <td>1</td>\n",
       "      <td>[frame, masonry, veneer]</td>\n",
       "      <td>3</td>\n",
       "    </tr>\n",
       "    <tr>\n",
       "      <th>2</th>\n",
       "      <td>ALL COMB (WOOD FRAME)</td>\n",
       "      <td>1</td>\n",
       "      <td>[all, comb, wood, frame]</td>\n",
       "      <td>4</td>\n",
       "    </tr>\n",
       "  </tbody>\n",
       "</table>\n",
       "</div>"
      ],
      "text/plain": [
       "                            Construction Description  ... count_of_words\n",
       "0  metal roof, wood floors, stucco interior and e...  ...              8\n",
       "1                      70% Frame, 30% Masonry Veneer  ...              3\n",
       "2                              ALL COMB (WOOD FRAME)  ...              4\n",
       "\n",
       "[3 rows x 4 columns]"
      ]
     },
     "execution_count": 31,
     "metadata": {
      "tags": []
     },
     "output_type": "execute_result"
    }
   ],
   "source": [
    "df.head(3)"
   ]
  },
  {
   "cell_type": "code",
   "execution_count": 32,
   "metadata": {
    "colab": {
     "base_uri": "https://localhost:8080/",
     "height": 285
    },
    "id": "6_kAjQZF2tUY",
    "outputId": "747ead45-1726-45d7-ec46-45b01db0bb01"
   },
   "outputs": [
    {
     "data": {
      "text/plain": [
       "<matplotlib.axes._subplots.AxesSubplot at 0x7f69c69e9fd0>"
      ]
     },
     "execution_count": 32,
     "metadata": {
      "tags": []
     },
     "output_type": "execute_result"
    },
    {
     "data": {
      "image/png": "[encoded data removed]",
      "text/plain": [
       "<Figure size 576x288 with 1 Axes>"
      ]
     },
     "metadata": {
      "tags": []
     },
     "output_type": "display_data"
    }
   ],
   "source": [
    "lens = df[\"count_of_words\"]\n",
    "lens.plot(kind='hist', bins = np.arange(start = 0, stop = 10, step = 1), figsize = [8,4],  legend = True)"
   ]
  },
  {
   "cell_type": "code",
   "execution_count": 33,
   "metadata": {
    "colab": {
     "base_uri": "https://localhost:8080/"
    },
    "id": "Hmv-R_aB2y3g",
    "outputId": "9e029642-eb59-4b66-ce93-5d64bb6769a4"
   },
   "outputs": [
    {
     "name": "stdout",
     "output_type": "stream",
     "text": [
      "3.0\n"
     ]
    }
   ],
   "source": [
    "print(df[\"count_of_words\"].median())"
   ]
  },
  {
   "cell_type": "code",
   "execution_count": 34,
   "metadata": {
    "colab": {
     "base_uri": "https://localhost:8080/"
    },
    "id": "ShM7kClq4bBy",
    "outputId": "3674fde6-2d80-4473-95ba-64f38328a310"
   },
   "outputs": [
    {
     "name": "stdout",
     "output_type": "stream",
     "text": [
      "Maximum Number of word in a Discription :  55\n",
      "Minimum Number of word in a Discription :  0\n"
     ]
    }
   ],
   "source": [
    "print(\"Maximum Number of word in a Discription : \" , df[\"count_of_words\"].max())\n",
    "print(\"Minimum Number of word in a Discription : \" , df[\"count_of_words\"].min())"
   ]
  },
  {
   "cell_type": "code",
   "execution_count": 35,
   "metadata": {
    "colab": {
     "base_uri": "https://localhost:8080/"
    },
    "id": "6xSWVBkG45s_",
    "outputId": "134b27bd-4594-4cb0-c115-a807a6947567"
   },
   "outputs": [
    {
     "name": "stdout",
     "output_type": "stream",
     "text": [
      "Maximum Number of letters in a Discription :  456\n",
      "Minimum Number of letters in a Discription :  1\n"
     ]
    }
   ],
   "source": [
    "def pre_processing(text):\n",
    "    clean_text = remove_stopwords(text) \n",
    "    clean_text = remove_numbers(clean_text)\n",
    "    clean_text = remove_punct(clean_text)\n",
    "    clean_text = lemmatize(clean_text)\n",
    "    clean_text = to_lower(clean_text)\n",
    "    #clean_text = word_tokenize(clean_text)\n",
    "\n",
    "    return clean_text\n",
    "df[\"letter_count\"] = df['Construction Description'].apply(pre_processing)\n",
    "print(\"Maximum Number of letters in a Discription : \" , df[\"Construction Description\"].str.len().max())\n",
    "print(\"Minimum Number of letters in a Discription : \" , df[\"Construction Description\"].str.len().min())"
   ]
  },
  {
   "cell_type": "code",
   "execution_count": 36,
   "metadata": {
    "colab": {
     "base_uri": "https://localhost:8080/",
     "height": 142
    },
    "id": "ujAVDPVC7DSm",
    "outputId": "74e6b6f7-3f97-4db5-9bae-34c9f6b728e0"
   },
   "outputs": [
    {
     "data": {
      "text/html": [
       "<div>\n",
       "<style scoped>\n",
       "    .dataframe tbody tr th:only-of-type {\n",
       "        vertical-align: middle;\n",
       "    }\n",
       "\n",
       "    .dataframe tbody tr th {\n",
       "        vertical-align: top;\n",
       "    }\n",
       "\n",
       "    .dataframe thead th {\n",
       "        text-align: right;\n",
       "    }\n",
       "</style>\n",
       "<table border=\"1\" class=\"dataframe\">\n",
       "  <thead>\n",
       "    <tr style=\"text-align: right;\">\n",
       "      <th></th>\n",
       "      <th>Construction Description</th>\n",
       "      <th>Construction Code</th>\n",
       "      <th>Clean_text</th>\n",
       "      <th>count_of_words</th>\n",
       "      <th>letter_count</th>\n",
       "    </tr>\n",
       "  </thead>\n",
       "  <tbody>\n",
       "    <tr>\n",
       "      <th>0</th>\n",
       "      <td>metal roof, wood floors, stucco interior and e...</td>\n",
       "      <td>1</td>\n",
       "      <td>[metal, roof, wood, floor, stucco, interior, e...</td>\n",
       "      <td>8</td>\n",
       "      <td>metal roof wood floor stucco interior exterior...</td>\n",
       "    </tr>\n",
       "    <tr>\n",
       "      <th>1</th>\n",
       "      <td>70% Frame, 30% Masonry Veneer</td>\n",
       "      <td>1</td>\n",
       "      <td>[frame, masonry, veneer]</td>\n",
       "      <td>3</td>\n",
       "      <td>frame masonry veneer</td>\n",
       "    </tr>\n",
       "    <tr>\n",
       "      <th>2</th>\n",
       "      <td>ALL COMB (WOOD FRAME)</td>\n",
       "      <td>1</td>\n",
       "      <td>[all, comb, wood, frame]</td>\n",
       "      <td>4</td>\n",
       "      <td>all comb wood frame</td>\n",
       "    </tr>\n",
       "  </tbody>\n",
       "</table>\n",
       "</div>"
      ],
      "text/plain": [
       "                            Construction Description  ...                                       letter_count\n",
       "0  metal roof, wood floors, stucco interior and e...  ...  metal roof wood floor stucco interior exterior...\n",
       "1                      70% Frame, 30% Masonry Veneer  ...                               frame masonry veneer\n",
       "2                              ALL COMB (WOOD FRAME)  ...                                all comb wood frame\n",
       "\n",
       "[3 rows x 5 columns]"
      ]
     },
     "execution_count": 36,
     "metadata": {
      "tags": []
     },
     "output_type": "execute_result"
    }
   ],
   "source": [
    "df.head(3)"
   ]
  },
  {
   "cell_type": "code",
   "execution_count": 37,
   "metadata": {
    "colab": {
     "base_uri": "https://localhost:8080/",
     "height": 498
    },
    "id": "2k3Sz6fG49bb",
    "outputId": "9762ce6e-eca8-4306-d22f-c39e9a3ab5a6"
   },
   "outputs": [
    {
     "name": "stdout",
     "output_type": "stream",
     "text": [
      "Word Cloud Function..\n"
     ]
    },
    {
     "data": {
      "image/png": "[encoded data removed]",
      "text/plain": [
       "<Figure size 800x800 with 1 Axes>"
      ]
     },
     "metadata": {
      "tags": []
     },
     "output_type": "display_data"
    }
   ],
   "source": [
    "#wordCloud is a technique to show which words are the most frequent among the given text. We use word cloud here to see which ingredients are most frequently used in a cuisine.\n",
    "import matplotlib as mpl\n",
    "from wordcloud import WordCloud, STOPWORDS\n",
    "\n",
    "print(\"Word Cloud Function..\")\n",
    "stopwords = set(STOPWORDS)\n",
    "size = (20,20)\n",
    "\n",
    "def cloud(text, title, stopwords=stopwords, size=size):\n",
    "    \"\"\"\n",
    "    Function to plot WordCloud\n",
    "    Includes: \n",
    "    \"\"\"\n",
    "    # Setting figure parameters\n",
    "    mpl.rcParams['figure.figsize']=(10.0,10.0)\n",
    "    mpl.rcParams['font.size']=12\n",
    "    mpl.rcParams['savefig.dpi']=100\n",
    "    mpl.rcParams['figure.subplot.bottom']=.1 \n",
    "    \n",
    "    # Processing Text\n",
    "    wordcloud = WordCloud(width=1600, height=800,\n",
    "                          background_color='black',\n",
    "                          stopwords=stopwords,\n",
    "                         ).generate(str(text))\n",
    "    \n",
    "    # Output Visualization\n",
    "    fig = plt.figure(figsize=size, dpi=80, facecolor='k',edgecolor='k')\n",
    "    plt.imshow(wordcloud,interpolation='bilinear')\n",
    "    plt.axis('off')\n",
    "    plt.title(title, fontsize=50,color='y')\n",
    "    plt.tight_layout(pad=0)\n",
    "    plt.show()\n",
    "    \n",
    "# Data Set for Word Clouds\n",
    "cloud(df['letter_count'].values, title=\"All words\", size=[10,10])"
   ]
  },
  {
   "cell_type": "code",
   "execution_count": 38,
   "metadata": {
    "colab": {
     "base_uri": "https://localhost:8080/"
    },
    "id": "XBSW6jHY7cc8",
    "outputId": "f4035aaf-66d4-48e1-f04b-fbc9f28587e4"
   },
   "outputs": [
    {
     "data": {
      "text/plain": [
       "(1502, 277)"
      ]
     },
     "execution_count": 38,
     "metadata": {
      "tags": []
     },
     "output_type": "execute_result"
    }
   ],
   "source": [
    "from sklearn.feature_extraction.text import TfidfVectorizer\n",
    "\n",
    "tfidf = TfidfVectorizer(sublinear_tf=True, min_df=5, norm='l2', encoding='latin-1', ngram_range=(1, 2), stop_words='english')\n",
    "\n",
    "features = tfidf.fit_transform(df['letter_count']).toarray()\n",
    "labels = df[\"Construction Code\"]\n",
    "features.shape"
   ]
  },
  {
   "cell_type": "code",
   "execution_count": 39,
   "metadata": {
    "colab": {
     "base_uri": "https://localhost:8080/"
    },
    "id": "lM366hRs8BFz",
    "outputId": "4b60f381-2e36-4250-f12d-92e6e2635f1d"
   },
   "outputs": [
    {
     "name": "stdout",
     "output_type": "stream",
     "text": [
      "class_label_1:\n",
      "  . Most correlated unigrams:\n",
      ". vinyl\n",
      ". wood\n",
      "  . Most correlated bigrams:\n",
      ". wood frame\n",
      ". frame stucco\n",
      "class_label_2:\n",
      "  . Most correlated unigrams:\n",
      ". jm\n",
      ". wood\n",
      "  . Most correlated bigrams:\n",
      ". wood frame\n",
      ". joisted masonry\n",
      "class_label_3:\n",
      "  . Most correlated unigrams:\n",
      ". preengineered\n",
      ". metal\n",
      "  . Most correlated bigrams:\n",
      ". steel frame\n",
      ". frame exterior\n",
      "class_label_4:\n",
      "  . Most correlated unigrams:\n",
      ". resistive\n",
      ". wood\n",
      "  . Most correlated bigrams:\n",
      ". masonry steel\n",
      ". wood frame\n",
      "class_label_5:\n",
      "  . Most correlated unigrams:\n",
      ". modified\n",
      ". mod\n",
      "  . Most correlated bigrams:\n",
      ". structural steel\n",
      ". resistive modified\n",
      "class_label_6:\n",
      "  . Most correlated unigrams:\n",
      ". poured\n",
      ". resistive\n",
      "  . Most correlated bigrams:\n",
      ". poured concrete\n",
      ". resistive concrete\n",
      "class_label_Unknown:\n",
      "  . Most correlated unigrams:\n",
      ". parking\n",
      ". buildings\n",
      "  . Most correlated bigrams:\n",
      ". wood frame\n",
      ". steel frame\n"
     ]
    }
   ],
   "source": [
    "from sklearn.feature_selection import chi2\n",
    "import numpy as np\n",
    "\n",
    "N = 2\n",
    "for category_id in sorted(df[\"Construction Code\"].unique()):\n",
    "  features_chi2 = chi2(features, labels == category_id)\n",
    "  indices = np.argsort(features_chi2[0])\n",
    "  feature_names = np.array(tfidf.get_feature_names())[indices]\n",
    "  unigrams = [v for v in feature_names if len(v.split(' ')) == 1]\n",
    "  bigrams = [v for v in feature_names if len(v.split(' ')) == 2]\n",
    "  print(\"class_label_{}:\".format(category_id)) \n",
    "  print(\"  . Most correlated unigrams:\\n. {}\".format('\\n. '.join(unigrams[-N:])))\n",
    "  print(\"  . Most correlated bigrams:\\n. {}\".format('\\n. '.join(bigrams[-N:])))"
   ]
  },
  {
   "cell_type": "code",
   "execution_count": 40,
   "metadata": {
    "id": "x7VTnWof8lb9"
   },
   "outputs": [],
   "source": [
    "from collections import Counter\n",
    "\n",
    "def word_freq(clean_text_list, top_n):\n",
    "    \"\"\"\n",
    "    Word Frequency\n",
    "    \"\"\"\n",
    "    flat = [item for sublist in clean_text_list for item in sublist]\n",
    "    with_counts = Counter(flat)\n",
    "    top = with_counts.most_common(top_n)\n",
    "    word = [each[0] for each in top]\n",
    "    num = [each[1] for each in top]\n",
    "    return pd.DataFrame([word, num]).T"
   ]
  },
  {
   "cell_type": "code",
   "execution_count": 41,
   "metadata": {
    "colab": {
     "base_uri": "https://localhost:8080/",
     "height": 669
    },
    "id": "jESa5s_68GbX",
    "outputId": "5d5eb990-f088-40bd-ba06-800cd207d32c"
   },
   "outputs": [
    {
     "data": {
      "text/html": [
       "<div>\n",
       "<style scoped>\n",
       "    .dataframe tbody tr th:only-of-type {\n",
       "        vertical-align: middle;\n",
       "    }\n",
       "\n",
       "    .dataframe tbody tr th {\n",
       "        vertical-align: top;\n",
       "    }\n",
       "\n",
       "    .dataframe thead th {\n",
       "        text-align: right;\n",
       "    }\n",
       "</style>\n",
       "<table border=\"1\" class=\"dataframe\">\n",
       "  <thead>\n",
       "    <tr style=\"text-align: right;\">\n",
       "      <th></th>\n",
       "      <th>0</th>\n",
       "      <th>1</th>\n",
       "    </tr>\n",
       "  </thead>\n",
       "  <tbody>\n",
       "    <tr>\n",
       "      <th>0</th>\n",
       "      <td>concrete</td>\n",
       "      <td>494</td>\n",
       "    </tr>\n",
       "    <tr>\n",
       "      <th>1</th>\n",
       "      <td>steel</td>\n",
       "      <td>425</td>\n",
       "    </tr>\n",
       "    <tr>\n",
       "      <th>2</th>\n",
       "      <td>frame</td>\n",
       "      <td>303</td>\n",
       "    </tr>\n",
       "    <tr>\n",
       "      <th>3</th>\n",
       "      <td>masonry</td>\n",
       "      <td>259</td>\n",
       "    </tr>\n",
       "    <tr>\n",
       "      <th>4</th>\n",
       "      <td>wood</td>\n",
       "      <td>193</td>\n",
       "    </tr>\n",
       "    <tr>\n",
       "      <th>5</th>\n",
       "      <td>brick</td>\n",
       "      <td>186</td>\n",
       "    </tr>\n",
       "    <tr>\n",
       "      <th>6</th>\n",
       "      <td>metal</td>\n",
       "      <td>184</td>\n",
       "    </tr>\n",
       "    <tr>\n",
       "      <th>7</th>\n",
       "      <td>block</td>\n",
       "      <td>136</td>\n",
       "    </tr>\n",
       "    <tr>\n",
       "      <th>8</th>\n",
       "      <td>roof</td>\n",
       "      <td>105</td>\n",
       "    </tr>\n",
       "    <tr>\n",
       "      <th>9</th>\n",
       "      <td>fire</td>\n",
       "      <td>104</td>\n",
       "    </tr>\n",
       "    <tr>\n",
       "      <th>10</th>\n",
       "      <td>and</td>\n",
       "      <td>97</td>\n",
       "    </tr>\n",
       "    <tr>\n",
       "      <th>11</th>\n",
       "      <td>slab</td>\n",
       "      <td>86</td>\n",
       "    </tr>\n",
       "    <tr>\n",
       "      <th>12</th>\n",
       "      <td>wall</td>\n",
       "      <td>85</td>\n",
       "    </tr>\n",
       "    <tr>\n",
       "      <th>13</th>\n",
       "      <td>exterior</td>\n",
       "      <td>83</td>\n",
       "    </tr>\n",
       "    <tr>\n",
       "      <th>14</th>\n",
       "      <td>deck</td>\n",
       "      <td>82</td>\n",
       "    </tr>\n",
       "    <tr>\n",
       "      <th>15</th>\n",
       "      <td>reinforced</td>\n",
       "      <td>82</td>\n",
       "    </tr>\n",
       "    <tr>\n",
       "      <th>16</th>\n",
       "      <td>stucco</td>\n",
       "      <td>79</td>\n",
       "    </tr>\n",
       "    <tr>\n",
       "      <th>17</th>\n",
       "      <td>resistive</td>\n",
       "      <td>76</td>\n",
       "    </tr>\n",
       "    <tr>\n",
       "      <th>18</th>\n",
       "      <td>veneer</td>\n",
       "      <td>56</td>\n",
       "    </tr>\n",
       "    <tr>\n",
       "      <th>19</th>\n",
       "      <td>tilt</td>\n",
       "      <td>48</td>\n",
       "    </tr>\n",
       "  </tbody>\n",
       "</table>\n",
       "</div>"
      ],
      "text/plain": [
       "             0    1\n",
       "0     concrete  494\n",
       "1        steel  425\n",
       "2        frame  303\n",
       "3      masonry  259\n",
       "4         wood  193\n",
       "5        brick  186\n",
       "6        metal  184\n",
       "7        block  136\n",
       "8         roof  105\n",
       "9         fire  104\n",
       "10         and   97\n",
       "11        slab   86\n",
       "12        wall   85\n",
       "13    exterior   83\n",
       "14        deck   82\n",
       "15  reinforced   82\n",
       "16      stucco   79\n",
       "17   resistive   76\n",
       "18      veneer   56\n",
       "19        tilt   48"
      ]
     },
     "execution_count": 41,
     "metadata": {
      "tags": []
     },
     "output_type": "execute_result"
    }
   ],
   "source": [
    "#Top 20 most frequent words for all the Construction Description \n",
    "\n",
    "cl_text_list = df[\"Clean_text\"].tolist()\n",
    "wf = word_freq(cl_text_list, 20)\n",
    "wf.head(20)"
   ]
  },
  {
   "cell_type": "code",
   "execution_count": 42,
   "metadata": {
    "colab": {
     "base_uri": "https://localhost:8080/",
     "height": 266
    },
    "id": "3558_H8W9GmK",
    "outputId": "a09e5472-11f9-43c7-eab5-a5ce012df05f"
   },
   "outputs": [
    {
     "data": {
      "text/html": [
       "<div>\n",
       "<style scoped>\n",
       "    .dataframe tbody tr th:only-of-type {\n",
       "        vertical-align: middle;\n",
       "    }\n",
       "\n",
       "    .dataframe tbody tr th {\n",
       "        vertical-align: top;\n",
       "    }\n",
       "\n",
       "    .dataframe thead th {\n",
       "        text-align: right;\n",
       "    }\n",
       "</style>\n",
       "<table border=\"1\" class=\"dataframe\">\n",
       "  <thead>\n",
       "    <tr style=\"text-align: right;\">\n",
       "      <th></th>\n",
       "      <th>Construction Code</th>\n",
       "      <th>word_count</th>\n",
       "    </tr>\n",
       "  </thead>\n",
       "  <tbody>\n",
       "    <tr>\n",
       "      <th>0</th>\n",
       "      <td>1</td>\n",
       "      <td>3.630952</td>\n",
       "    </tr>\n",
       "    <tr>\n",
       "      <th>1</th>\n",
       "      <td>2</td>\n",
       "      <td>3.680851</td>\n",
       "    </tr>\n",
       "    <tr>\n",
       "      <th>2</th>\n",
       "      <td>3</td>\n",
       "      <td>3.690355</td>\n",
       "    </tr>\n",
       "    <tr>\n",
       "      <th>3</th>\n",
       "      <td>4</td>\n",
       "      <td>4.216570</td>\n",
       "    </tr>\n",
       "    <tr>\n",
       "      <th>4</th>\n",
       "      <td>5</td>\n",
       "      <td>3.861538</td>\n",
       "    </tr>\n",
       "    <tr>\n",
       "      <th>5</th>\n",
       "      <td>6</td>\n",
       "      <td>4.207921</td>\n",
       "    </tr>\n",
       "    <tr>\n",
       "      <th>6</th>\n",
       "      <td>Unknown</td>\n",
       "      <td>17.000000</td>\n",
       "    </tr>\n",
       "  </tbody>\n",
       "</table>\n",
       "</div>"
      ],
      "text/plain": [
       "  Construction Code  word_count\n",
       "0                 1    3.630952\n",
       "1                 2    3.680851\n",
       "2                 3    3.690355\n",
       "3                 4    4.216570\n",
       "4                 5    3.861538\n",
       "5                 6    4.207921\n",
       "6           Unknown   17.000000"
      ]
     },
     "execution_count": 42,
     "metadata": {
      "tags": []
     },
     "output_type": "execute_result"
    }
   ],
   "source": [
    "#Avg word count by category\n",
    "def word_count(text):\n",
    "    return len(str(text).split(' '))\n",
    "\n",
    "    \n",
    "df[\"word_count\"] = df[\"Clean_text\"].apply(word_count)\n",
    "avg_wc = df.groupby(\"Construction Code\").mean().reset_index()\n",
    "avg_wc[[\"Construction Code\",\"word_count\"]]"
   ]
  },
  {
   "cell_type": "code",
   "execution_count": 43,
   "metadata": {
    "id": "V9_aEjGr-kbh"
   },
   "outputs": [],
   "source": [
    "from gensim.models import Phrases\n",
    "def word_freq_bigrams(clean_text_list, top_n):\n",
    "    \n",
    "    \"\"\"\n",
    "    Word Frequency With Bigrams\n",
    "    \"\"\"\n",
    "    bigram_model = Phrases(clean_text_list, min_count=2, threshold=1)\n",
    "    w_bigrams = list(bigram_model[clean_text_list])\n",
    "    flat_w_bigrams = [item for sublist in w_bigrams for item in sublist]\n",
    "    with_counts = Counter(flat_w_bigrams)\n",
    "    top = with_counts.most_common(top_n)\n",
    "    word = [each[0] for each in top]\n",
    "    num = [each[1] for each in top]\n",
    "    return pd.DataFrame([word, num]).T"
   ]
  },
  {
   "cell_type": "code",
   "execution_count": 44,
   "metadata": {
    "colab": {
     "base_uri": "https://localhost:8080/"
    },
    "id": "a-tk4iyr93PB",
    "outputId": "61c07781-ae02-4348-ad01-1cceecc22e14"
   },
   "outputs": [
    {
     "name": "stderr",
     "output_type": "stream",
     "text": [
      "/usr/local/lib/python3.7/dist-packages/gensim/models/phrases.py:598: UserWarning: For a faster implementation, use the gensim.models.phrases.Phraser class\n",
      "  warnings.warn(\"For a faster implementation, use the gensim.models.phrases.Phraser class\")\n"
     ]
    }
   ],
   "source": [
    "#Top 15 words by category. Taking bigrams into account\n",
    "top_n = 15\n",
    "\n",
    "#Splitting the df into the different categories\n",
    "df_label_1 = df.loc[df[\"Construction Code\"] == \"1\"] \n",
    "df_label_2 = df.loc[df[\"Construction Code\"] == \"2\"]\n",
    "df_label_3 = df.loc[df[\"Construction Code\"] == \"3\"] \n",
    "df_label_4 = df.loc[df[\"Construction Code\"] == \"4\"]\n",
    "df_label_5 = df.loc[df[\"Construction Code\"] == \"5\"]\n",
    "df_label_6 = df.loc[df[\"Construction Code\"] == \"6\"]\n",
    "df_label_7 = df.loc[df[\"Construction Code\"] == \"Unknown\"]\n",
    "\n",
    "text_label_1 = df_label_1[\"Clean_text\"].tolist()\n",
    "text_label_2 = df_label_2[\"Clean_text\"].tolist()\n",
    "text_label_3 = df_label_3[\"Clean_text\"].tolist()\n",
    "text_label_4 = df_label_4[\"Clean_text\"].tolist()\n",
    "text_label_5 = df_label_5[\"Clean_text\"].tolist()\n",
    "text_label_6 = df_label_6[\"Clean_text\"].tolist()\n",
    "text_label_Unknown = df_label_1[\"Clean_text\"].tolist()\n",
    "\n",
    "class_1 = word_freq_bigrams(text_label_1, top_n=top_n)\n",
    "class_2 = word_freq_bigrams(text_label_2, top_n=top_n)\n",
    "class_3 = word_freq_bigrams(text_label_3, top_n=top_n)\n",
    "class_4 = word_freq_bigrams(text_label_4, top_n=top_n)\n",
    "class_5 = word_freq_bigrams(text_label_5, top_n=top_n)\n",
    "class_6 = word_freq_bigrams(text_label_6, top_n=top_n)\n",
    "class_Unknown = word_freq_bigrams(text_label_Unknown, top_n=top_n)\n",
    "\n",
    "df_wf = pd.concat([class_1, class_2, class_3, class_4, class_5, class_6, class_Unknown ], axis=1)\n",
    "cols = ['class_1', 'count', 'class_2','count', 'class_3','count', 'class_4', 'count','class_5','count', 'class_6', 'count','class_Unknown', 'count']\n",
    "df_wf.columns = cols\n"
   ]
  },
  {
   "cell_type": "code",
   "execution_count": 45,
   "metadata": {
    "colab": {
     "base_uri": "https://localhost:8080/",
     "height": 534
    },
    "id": "fXtf2pup-oHU",
    "outputId": "d1dd0901-7402-4f3c-d362-89db23dd79a1"
   },
   "outputs": [
    {
     "data": {
      "text/html": [
       "<div>\n",
       "<style scoped>\n",
       "    .dataframe tbody tr th:only-of-type {\n",
       "        vertical-align: middle;\n",
       "    }\n",
       "\n",
       "    .dataframe tbody tr th {\n",
       "        vertical-align: top;\n",
       "    }\n",
       "\n",
       "    .dataframe thead th {\n",
       "        text-align: right;\n",
       "    }\n",
       "</style>\n",
       "<table border=\"1\" class=\"dataframe\">\n",
       "  <thead>\n",
       "    <tr style=\"text-align: right;\">\n",
       "      <th></th>\n",
       "      <th>class_1</th>\n",
       "      <th>count</th>\n",
       "      <th>class_2</th>\n",
       "      <th>count</th>\n",
       "      <th>class_3</th>\n",
       "      <th>count</th>\n",
       "      <th>class_4</th>\n",
       "      <th>count</th>\n",
       "      <th>class_5</th>\n",
       "      <th>count</th>\n",
       "      <th>class_6</th>\n",
       "      <th>count</th>\n",
       "      <th>class_Unknown</th>\n",
       "      <th>count</th>\n",
       "    </tr>\n",
       "  </thead>\n",
       "  <tbody>\n",
       "    <tr>\n",
       "      <th>0</th>\n",
       "      <td>wood</td>\n",
       "      <td>42</td>\n",
       "      <td>brick</td>\n",
       "      <td>54</td>\n",
       "      <td>steel_frame</td>\n",
       "      <td>40</td>\n",
       "      <td>concrete</td>\n",
       "      <td>154</td>\n",
       "      <td>concrete</td>\n",
       "      <td>12</td>\n",
       "      <td>fire_resistive</td>\n",
       "      <td>43</td>\n",
       "      <td>wood</td>\n",
       "      <td>42</td>\n",
       "    </tr>\n",
       "    <tr>\n",
       "      <th>1</th>\n",
       "      <td>frame</td>\n",
       "      <td>29</td>\n",
       "      <td>masonry</td>\n",
       "      <td>51</td>\n",
       "      <td>metal</td>\n",
       "      <td>37</td>\n",
       "      <td>steel</td>\n",
       "      <td>121</td>\n",
       "      <td>structural_steel</td>\n",
       "      <td>12</td>\n",
       "      <td>concrete</td>\n",
       "      <td>18</td>\n",
       "      <td>frame</td>\n",
       "      <td>29</td>\n",
       "    </tr>\n",
       "    <tr>\n",
       "      <th>2</th>\n",
       "      <td>wood_frame</td>\n",
       "      <td>28</td>\n",
       "      <td>wood</td>\n",
       "      <td>39</td>\n",
       "      <td>steel</td>\n",
       "      <td>36</td>\n",
       "      <td>masonry</td>\n",
       "      <td>71</td>\n",
       "      <td>modified</td>\n",
       "      <td>10</td>\n",
       "      <td>reinforced_concrete</td>\n",
       "      <td>16</td>\n",
       "      <td>wood_frame</td>\n",
       "      <td>28</td>\n",
       "    </tr>\n",
       "    <tr>\n",
       "      <th>3</th>\n",
       "      <td>stucco</td>\n",
       "      <td>18</td>\n",
       "      <td>wood_frame</td>\n",
       "      <td>32</td>\n",
       "      <td>exterior</td>\n",
       "      <td>24</td>\n",
       "      <td>brick</td>\n",
       "      <td>50</td>\n",
       "      <td>steel</td>\n",
       "      <td>8</td>\n",
       "      <td>fire</td>\n",
       "      <td>16</td>\n",
       "      <td>stucco</td>\n",
       "      <td>18</td>\n",
       "    </tr>\n",
       "    <tr>\n",
       "      <th>4</th>\n",
       "      <td>steel</td>\n",
       "      <td>14</td>\n",
       "      <td>concrete</td>\n",
       "      <td>30</td>\n",
       "      <td>glass</td>\n",
       "      <td>14</td>\n",
       "      <td>metal</td>\n",
       "      <td>49</td>\n",
       "      <td>fire_resistive</td>\n",
       "      <td>8</td>\n",
       "      <td>poured_concrete</td>\n",
       "      <td>10</td>\n",
       "      <td>steel</td>\n",
       "      <td>14</td>\n",
       "    </tr>\n",
       "    <tr>\n",
       "      <th>5</th>\n",
       "      <td>roof</td>\n",
       "      <td>14</td>\n",
       "      <td>frame</td>\n",
       "      <td>30</td>\n",
       "      <td>concrete</td>\n",
       "      <td>11</td>\n",
       "      <td>steel_frame</td>\n",
       "      <td>48</td>\n",
       "      <td>modified_fire</td>\n",
       "      <td>8</td>\n",
       "      <td>frame</td>\n",
       "      <td>9</td>\n",
       "      <td>roof</td>\n",
       "      <td>14</td>\n",
       "    </tr>\n",
       "    <tr>\n",
       "      <th>6</th>\n",
       "      <td>metal</td>\n",
       "      <td>9</td>\n",
       "      <td>roof</td>\n",
       "      <td>21</td>\n",
       "      <td>roof</td>\n",
       "      <td>11</td>\n",
       "      <td>concrete_block</td>\n",
       "      <td>41</td>\n",
       "      <td>resistive</td>\n",
       "      <td>8</td>\n",
       "      <td>roof</td>\n",
       "      <td>8</td>\n",
       "      <td>metal</td>\n",
       "      <td>9</td>\n",
       "    </tr>\n",
       "    <tr>\n",
       "      <th>7</th>\n",
       "      <td>floor</td>\n",
       "      <td>7</td>\n",
       "      <td>concrete_slab</td>\n",
       "      <td>17</td>\n",
       "      <td>noncombustible</td>\n",
       "      <td>11</td>\n",
       "      <td>block</td>\n",
       "      <td>40</td>\n",
       "      <td>mod_fire</td>\n",
       "      <td>6</td>\n",
       "      <td>fr</td>\n",
       "      <td>8</td>\n",
       "      <td>floor</td>\n",
       "      <td>7</td>\n",
       "    </tr>\n",
       "    <tr>\n",
       "      <th>8</th>\n",
       "      <td>concrete</td>\n",
       "      <td>7</td>\n",
       "      <td>steel</td>\n",
       "      <td>16</td>\n",
       "      <td>concrete_slab</td>\n",
       "      <td>10</td>\n",
       "      <td>reinforced_concrete</td>\n",
       "      <td>38</td>\n",
       "      <td>modified_fr</td>\n",
       "      <td>5</td>\n",
       "      <td>precast_concrete</td>\n",
       "      <td>8</td>\n",
       "      <td>concrete</td>\n",
       "      <td>7</td>\n",
       "    </tr>\n",
       "    <tr>\n",
       "      <th>9</th>\n",
       "      <td>veneer</td>\n",
       "      <td>6</td>\n",
       "      <td>joisted_masonry</td>\n",
       "      <td>13</td>\n",
       "      <td>metal_frame</td>\n",
       "      <td>10</td>\n",
       "      <td>masonry_steel</td>\n",
       "      <td>38</td>\n",
       "      <td>mod_fr</td>\n",
       "      <td>5</td>\n",
       "      <td>iso</td>\n",
       "      <td>7</td>\n",
       "      <td>veneer</td>\n",
       "      <td>6</td>\n",
       "    </tr>\n",
       "    <tr>\n",
       "      <th>10</th>\n",
       "      <td>brick</td>\n",
       "      <td>6</td>\n",
       "      <td>block</td>\n",
       "      <td>13</td>\n",
       "      <td>frame</td>\n",
       "      <td>9</td>\n",
       "      <td>roof</td>\n",
       "      <td>36</td>\n",
       "      <td>frame</td>\n",
       "      <td>4</td>\n",
       "      <td>wall</td>\n",
       "      <td>5</td>\n",
       "      <td>brick</td>\n",
       "      <td>6</td>\n",
       "    </tr>\n",
       "    <tr>\n",
       "      <th>11</th>\n",
       "      <td>building</td>\n",
       "      <td>6</td>\n",
       "      <td>cmu</td>\n",
       "      <td>13</td>\n",
       "      <td>panel</td>\n",
       "      <td>8</td>\n",
       "      <td>frame</td>\n",
       "      <td>33</td>\n",
       "      <td>metal</td>\n",
       "      <td>4</td>\n",
       "      <td>steel_frame</td>\n",
       "      <td>5</td>\n",
       "      <td>building</td>\n",
       "      <td>6</td>\n",
       "    </tr>\n",
       "    <tr>\n",
       "      <th>12</th>\n",
       "      <td>and</td>\n",
       "      <td>6</td>\n",
       "      <td>jm</td>\n",
       "      <td>10</td>\n",
       "      <td>nc</td>\n",
       "      <td>7</td>\n",
       "      <td>wall</td>\n",
       "      <td>32</td>\n",
       "      <td>mod</td>\n",
       "      <td>4</td>\n",
       "      <td>a</td>\n",
       "      <td>4</td>\n",
       "      <td>and</td>\n",
       "      <td>6</td>\n",
       "    </tr>\n",
       "    <tr>\n",
       "      <th>13</th>\n",
       "      <td>construction</td>\n",
       "      <td>6</td>\n",
       "      <td>and</td>\n",
       "      <td>10</td>\n",
       "      <td>masonry</td>\n",
       "      <td>7</td>\n",
       "      <td>and</td>\n",
       "      <td>26</td>\n",
       "      <td>reinforced_concrete</td>\n",
       "      <td>3</td>\n",
       "      <td>on_steel</td>\n",
       "      <td>4</td>\n",
       "      <td>construction</td>\n",
       "      <td>6</td>\n",
       "    </tr>\n",
       "    <tr>\n",
       "      <th>14</th>\n",
       "      <td>brick_veneer</td>\n",
       "      <td>5</td>\n",
       "      <td>concrete_block</td>\n",
       "      <td>10</td>\n",
       "      <td>aluminum</td>\n",
       "      <td>6</td>\n",
       "      <td>steel_deck</td>\n",
       "      <td>25</td>\n",
       "      <td>fire</td>\n",
       "      <td>3</td>\n",
       "      <td>poured_place</td>\n",
       "      <td>3</td>\n",
       "      <td>brick_veneer</td>\n",
       "      <td>5</td>\n",
       "    </tr>\n",
       "  </tbody>\n",
       "</table>\n",
       "</div>"
      ],
      "text/plain": [
       "         class_1 count          class_2  ... count class_Unknown count\n",
       "0           wood    42            brick  ...    43          wood    42\n",
       "1          frame    29          masonry  ...    18         frame    29\n",
       "2     wood_frame    28             wood  ...    16    wood_frame    28\n",
       "3         stucco    18       wood_frame  ...    16        stucco    18\n",
       "4          steel    14         concrete  ...    10         steel    14\n",
       "5           roof    14            frame  ...     9          roof    14\n",
       "6          metal     9             roof  ...     8         metal     9\n",
       "7          floor     7    concrete_slab  ...     8         floor     7\n",
       "8       concrete     7            steel  ...     8      concrete     7\n",
       "9         veneer     6  joisted_masonry  ...     7        veneer     6\n",
       "10         brick     6            block  ...     5         brick     6\n",
       "11      building     6              cmu  ...     5      building     6\n",
       "12           and     6               jm  ...     4           and     6\n",
       "13  construction     6              and  ...     4  construction     6\n",
       "14  brick_veneer     5   concrete_block  ...     3  brick_veneer     5\n",
       "\n",
       "[15 rows x 14 columns]"
      ]
     },
     "execution_count": 45,
     "metadata": {
      "tags": []
     },
     "output_type": "execute_result"
    }
   ],
   "source": [
    "df_wf"
   ]
  },
  {
   "cell_type": "code",
   "execution_count": 46,
   "metadata": {
    "colab": {
     "base_uri": "https://localhost:8080/",
     "height": 684
    },
    "id": "kUltPuafUXG7",
    "outputId": "0ad19e5b-ce4d-4931-ebdd-f37438353f11"
   },
   "outputs": [
    {
     "data": {
      "image/png": "[encoded data removed]",
      "text/plain": [
       "<Figure size 864x720 with 6 Axes>"
      ]
     },
     "metadata": {
      "tags": []
     },
     "output_type": "display_data"
    }
   ],
   "source": [
    "#Plot the distribution of word count by article\n",
    "\n",
    "fig, ax = plt.subplots(2, 3, figsize = (12,10))\n",
    "fig.suptitle('Distribution of Word Count by Category', fontsize=15)\n",
    "\n",
    "bins = 30\n",
    "\n",
    "ax[0, 0].hist(df_label_1[\"word_count\"], bins = bins, color = '#41924F')\n",
    "ax[0, 0].set_title(\"class_1\", fontsize = 13)\n",
    "ax[0, 0].set_xlim(0, 20)\n",
    "\n",
    "ax[1, 0].hist(df_label_2[\"word_count\"], bins = bins, color = '#FFC300')\n",
    "ax[1, 0].set_title(\"class_2\", fontsize = 13)\n",
    "ax[1, 0].set_xlim(0, 20)\n",
    "\n",
    "ax[0, 1].hist(df_label_3[\"word_count\"], bins = bins, color = '#a98ff3')\n",
    "ax[0, 1].set_title(\"class_3\", fontsize = 13)\n",
    "ax[0, 1].set_xlim(0, 20)\n",
    "\n",
    "ax[1, 1].hist(df_label_4[\"word_count\"], bins = bins, color = '#59C7EA')\n",
    "ax[1, 1].set_title(\"class_4\", fontsize = 13)\n",
    "ax[1, 1].set_xlim(0, 20)\n",
    "\n",
    "ax[1, 1].hist(df_label_5[\"word_count\"], bins = bins, color = '#59C7EA')\n",
    "ax[1, 1].set_title(\"class_5\", fontsize = 13)\n",
    "ax[1, 1].set_xlim(0, 20)\n",
    "\n",
    "ax[0, 2].hist(df_label_6[\"word_count\"], bins = bins, color = '#59C7EA')\n",
    "ax[0, 2].set_title(\"class_6\", fontsize = 13)\n",
    "ax[0, 2].set_xlim(0, 20)\n",
    "\n",
    "ax[1, 2].hist(df_label_7[\"word_count\"], bins = bins, color = '#59C7EA')\n",
    "ax[1, 2].set_title(\"class_Unknown\", fontsize = 13)\n",
    "ax[1, 2].set_xlim(0, 20)\n",
    "\n",
    "plt.show()"
   ]
  },
  {
   "cell_type": "code",
   "execution_count": 47,
   "metadata": {
    "colab": {
     "base_uri": "https://localhost:8080/",
     "height": 114
    },
    "id": "nxUgc6TPVb7Z",
    "outputId": "fb1c9094-22b9-4593-b23e-468348a70625"
   },
   "outputs": [
    {
     "data": {
      "text/html": [
       "<div>\n",
       "<style scoped>\n",
       "    .dataframe tbody tr th:only-of-type {\n",
       "        vertical-align: middle;\n",
       "    }\n",
       "\n",
       "    .dataframe tbody tr th {\n",
       "        vertical-align: top;\n",
       "    }\n",
       "\n",
       "    .dataframe thead th {\n",
       "        text-align: right;\n",
       "    }\n",
       "</style>\n",
       "<table border=\"1\" class=\"dataframe\">\n",
       "  <thead>\n",
       "    <tr style=\"text-align: right;\">\n",
       "      <th></th>\n",
       "      <th>Construction Description</th>\n",
       "      <th>Construction Code</th>\n",
       "      <th>Clean_text</th>\n",
       "      <th>count_of_words</th>\n",
       "      <th>letter_count</th>\n",
       "      <th>word_count</th>\n",
       "    </tr>\n",
       "  </thead>\n",
       "  <tbody>\n",
       "    <tr>\n",
       "      <th>1481</th>\n",
       "      <td>THIS LOCATION IS ACTUALLY TWO BUILDINGS OF MIX...</td>\n",
       "      <td>Unknown</td>\n",
       "      <td>[this, location, is, actually, two, buildings,...</td>\n",
       "      <td>17</td>\n",
       "      <td>this location is actually two buildings of mix...</td>\n",
       "      <td>17</td>\n",
       "    </tr>\n",
       "  </tbody>\n",
       "</table>\n",
       "</div>"
      ],
      "text/plain": [
       "                               Construction Description  ... word_count\n",
       "1481  THIS LOCATION IS ACTUALLY TWO BUILDINGS OF MIX...  ...         17\n",
       "\n",
       "[1 rows x 6 columns]"
      ]
     },
     "execution_count": 47,
     "metadata": {
      "tags": []
     },
     "output_type": "execute_result"
    }
   ],
   "source": [
    "df_label_7.head()"
   ]
  },
  {
   "cell_type": "code",
   "execution_count": 50,
   "metadata": {
    "colab": {
     "base_uri": "https://localhost:8080/"
    },
    "id": "d7btZXhiWhgH",
    "outputId": "e9bd84c8-d9b9-403e-cde8-642942d53234"
   },
   "outputs": [
    {
     "name": "stdout",
     "output_type": "stream",
     "text": [
      "Requirement already satisfied: tokenizer in /usr/local/lib/python3.7/dist-packages (3.1.0)\n"
     ]
    }
   ],
   "source": [
    "!pip install tokenizer"
   ]
  },
  {
   "cell_type": "code",
   "execution_count": 48,
   "metadata": {
    "id": "JBGd6nO1coBi"
   },
   "outputs": [],
   "source": [
    "#####  Data prep & LSTM Modeling starts from here #####\n",
    "import tokenizer\n",
    "from keras.preprocessing.text import Tokenizer\n",
    "from keras.preprocessing.sequence import pad_sequences"
   ]
  },
  {
   "cell_type": "code",
   "execution_count": 49,
   "metadata": {
    "id": "i6moLWmlc36M"
   },
   "outputs": [],
   "source": [
    "# The max number of words to be used\n",
    "MAX_NB_WORDS = 5000"
   ]
  },
  {
   "cell_type": "code",
   "execution_count": 50,
   "metadata": {
    "colab": {
     "base_uri": "https://localhost:8080/",
     "height": 114
    },
    "id": "TP-ccSZ9laOE",
    "outputId": "0e93fd28-45a4-4ef2-dc0a-f06a59fb2ca8"
   },
   "outputs": [
    {
     "data": {
      "text/html": [
       "<div>\n",
       "<style scoped>\n",
       "    .dataframe tbody tr th:only-of-type {\n",
       "        vertical-align: middle;\n",
       "    }\n",
       "\n",
       "    .dataframe tbody tr th {\n",
       "        vertical-align: top;\n",
       "    }\n",
       "\n",
       "    .dataframe thead th {\n",
       "        text-align: right;\n",
       "    }\n",
       "</style>\n",
       "<table border=\"1\" class=\"dataframe\">\n",
       "  <thead>\n",
       "    <tr style=\"text-align: right;\">\n",
       "      <th></th>\n",
       "      <th>Construction Description</th>\n",
       "      <th>Construction Code</th>\n",
       "      <th>Clean_text</th>\n",
       "      <th>count_of_words</th>\n",
       "      <th>letter_count</th>\n",
       "      <th>word_count</th>\n",
       "    </tr>\n",
       "  </thead>\n",
       "  <tbody>\n",
       "    <tr>\n",
       "      <th>0</th>\n",
       "      <td>metal roof, wood floors, stucco interior and e...</td>\n",
       "      <td>1</td>\n",
       "      <td>[metal, roof, wood, floor, stucco, interior, e...</td>\n",
       "      <td>8</td>\n",
       "      <td>metal roof wood floor stucco interior exterior...</td>\n",
       "      <td>8</td>\n",
       "    </tr>\n",
       "  </tbody>\n",
       "</table>\n",
       "</div>"
      ],
      "text/plain": [
       "                            Construction Description  ... word_count\n",
       "0  metal roof, wood floors, stucco interior and e...  ...          8\n",
       "\n",
       "[1 rows x 6 columns]"
      ]
     },
     "execution_count": 50,
     "metadata": {
      "tags": []
     },
     "output_type": "execute_result"
    }
   ],
   "source": [
    "df.head(1)"
   ]
  },
  {
   "cell_type": "code",
   "execution_count": 51,
   "metadata": {
    "id": "-JX_ULQKdDJM"
   },
   "outputs": [],
   "source": [
    "# Max number of words in each description.\n",
    "MAX_SEQUENCE_LENGTH = 100"
   ]
  },
  {
   "cell_type": "code",
   "execution_count": 52,
   "metadata": {
    "colab": {
     "base_uri": "https://localhost:8080/"
    },
    "id": "JsQZ6QgkdFa8",
    "outputId": "8c105b19-a800-41fe-8a46-d23697318906"
   },
   "outputs": [
    {
     "name": "stdout",
     "output_type": "stream",
     "text": [
      "Found 859 unique tokens.\n"
     ]
    }
   ],
   "source": [
    "# This is fixed.\n",
    "EMBEDDING_DIM = 64\n",
    "tokenizer = Tokenizer(num_words = MAX_NB_WORDS, filters='!\"#$%&()*+,-./:;<=>?@[\\]^_`{|}~', lower=True)\n",
    "tokenizer.fit_on_texts(df['Clean_text'].values)\n",
    "word_index = tokenizer.word_index\n",
    "print('Found %s unique tokens.' % len(word_index))"
   ]
  },
  {
   "cell_type": "code",
   "execution_count": 53,
   "metadata": {
    "colab": {
     "base_uri": "https://localhost:8080/"
    },
    "id": "1U5QBrPQdJ7c",
    "outputId": "a1e1824d-18b0-4a35-f14a-a6113ca99928"
   },
   "outputs": [
    {
     "name": "stdout",
     "output_type": "stream",
     "text": [
      "Shape of data tensor: (1502, 100)\n"
     ]
    }
   ],
   "source": [
    "X = tokenizer.texts_to_sequences(df['Construction Description'].values)\n",
    "X = pad_sequences(X, maxlen = MAX_SEQUENCE_LENGTH)\n",
    "print('Shape of data tensor:', X.shape)"
   ]
  },
  {
   "cell_type": "code",
   "execution_count": 54,
   "metadata": {
    "colab": {
     "base_uri": "https://localhost:8080/"
    },
    "id": "Tq4MHbPodMqP",
    "outputId": "d7047718-df12-4803-fd51-5f21577802d9"
   },
   "outputs": [
    {
     "name": "stdout",
     "output_type": "stream",
     "text": [
      "Shape of label tensor: (1502, 7)\n"
     ]
    }
   ],
   "source": [
    "### Encode lables\n",
    "Y = pd.get_dummies(df['Construction Code']).values\n",
    "print('Shape of label tensor:', Y.shape)"
   ]
  },
  {
   "cell_type": "code",
   "execution_count": 55,
   "metadata": {
    "colab": {
     "base_uri": "https://localhost:8080/"
    },
    "id": "WXg8LjdIdO5i",
    "outputId": "7754c2f5-46a1-4feb-abe9-ddc5e0d7dcc3"
   },
   "outputs": [
    {
     "name": "stdout",
     "output_type": "stream",
     "text": [
      "(1201, 100) (1201, 7)\n",
      "(301, 100) (301, 7)\n"
     ]
    }
   ],
   "source": [
    "### Split the data into train & test \n",
    "from sklearn.model_selection import train_test_split\n",
    "X_train, X_test, Y_train, Y_test = train_test_split(X,Y, test_size = 0.20, random_state = 1)\n",
    "print(X_train.shape,Y_train.shape)\n",
    "print(X_test.shape,Y_test.shape)"
   ]
  },
  {
   "cell_type": "code",
   "execution_count": 56,
   "metadata": {
    "id": "suXFgU_Fela_"
   },
   "outputs": [],
   "source": [
    "### LSTM model fitting\n",
    "import keras\n",
    "from keras import Sequential\n",
    "from keras.layers import Dense\n",
    "from keras.layers import Flatten\n",
    "from keras.layers import SpatialDropout1D\n",
    "from keras.layers import LSTM\n",
    "from keras.callbacks import EarlyStopping\n",
    "from keras.layers.embeddings import Embedding\n",
    "from keras.callbacks import ModelCheckpoint\n",
    "from keras.callbacks import EarlyStopping, ReduceLROnPlateau, ModelCheckpoint\n"
   ]
  },
  {
   "cell_type": "code",
   "execution_count": 57,
   "metadata": {
    "colab": {
     "base_uri": "https://localhost:8080/"
    },
    "id": "RJ5Ew9R0eqLo",
    "outputId": "49121f5e-8e54-4b20-b0ef-7cd4bb604079"
   },
   "outputs": [
    {
     "name": "stdout",
     "output_type": "stream",
     "text": [
      "WARNING:tensorflow:Layer lstm will not use cuDNN kernel since it doesn't meet the cuDNN kernel criteria. It will use generic GPU kernel as fallback when running on GPU\n"
     ]
    }
   ],
   "source": [
    "model = Sequential()\n",
    "model.add(Embedding(MAX_NB_WORDS, EMBEDDING_DIM, input_length=X.shape[1]))\n",
    "model.add(SpatialDropout1D(0.2))\n",
    "model.add(LSTM(64, dropout = 0.3, recurrent_dropout = 0.2))\n",
    "model.add(Dense(7, activation = 'softmax'))\n",
    "opt = keras.optimizers.Adam(lr=0.001, decay=1e-6)\n",
    "model.compile(loss = 'categorical_crossentropy', optimizer = opt, metrics = ['accuracy'])"
   ]
  },
  {
   "cell_type": "code",
   "execution_count": 58,
   "metadata": {
    "colab": {
     "base_uri": "https://localhost:8080/"
    },
    "id": "I60Y6rqxfKUg",
    "outputId": "d43fe408-4471-4d11-f11b-ef684b0770a8"
   },
   "outputs": [
    {
     "name": "stdout",
     "output_type": "stream",
     "text": [
      "Model: \"sequential\"\n",
      "_________________________________________________________________\n",
      "Layer (type)                 Output Shape              Param #   \n",
      "=================================================================\n",
      "embedding (Embedding)        (None, 100, 64)           320000    \n",
      "_________________________________________________________________\n",
      "spatial_dropout1d (SpatialDr (None, 100, 64)           0         \n",
      "_________________________________________________________________\n",
      "lstm (LSTM)                  (None, 64)                33024     \n",
      "_________________________________________________________________\n",
      "dense (Dense)                (None, 7)                 455       \n",
      "=================================================================\n",
      "Total params: 353,479\n",
      "Trainable params: 353,479\n",
      "Non-trainable params: 0\n",
      "_________________________________________________________________\n",
      "None\n"
     ]
    }
   ],
   "source": [
    "print(model.summary())"
   ]
  },
  {
   "cell_type": "code",
   "execution_count": 59,
   "metadata": {
    "id": "CdvAQGrNfRhx"
   },
   "outputs": [],
   "source": [
    "filepath = \"/content/drive/My Drive/lstm assginemtn/final_4/\" + \"LSTM_{val_accuracy:.2f}.hdf5\""
   ]
  },
  {
   "cell_type": "code",
   "execution_count": 60,
   "metadata": {
    "id": "Cz84hfH3fgbQ"
   },
   "outputs": [],
   "source": [
    "checkpoint = [ModelCheckpoint(filepath, monitor='val_accuracy', verbose=1, save_best_only = True, save_weights_only = True, mode = 'auto'), \n",
    "                              ReduceLROnPlateau(monitor='val_loss', factor=0.2, min_delta = 0.0001,patience = 2), \n",
    "                               ]\n",
    "callbacks_list = checkpoint"
   ]
  },
  {
   "cell_type": "markdown",
   "metadata": {
    "id": "WjJp00pkMawV"
   },
   "source": [
    "Saving the model best weights and changing the learning rate for every 2 epochs if loss variation is less \n"
   ]
  },
  {
   "cell_type": "code",
   "execution_count": 61,
   "metadata": {
    "colab": {
     "base_uri": "https://localhost:8080/"
    },
    "id": "k6t3a-Qqfjb0",
    "outputId": "6e68a74a-947c-4eb5-ed8a-28631a843db3"
   },
   "outputs": [
    {
     "name": "stdout",
     "output_type": "stream",
     "text": [
      "Epoch 1/10\n",
      "540/540 [==============================] - 74s 133ms/step - loss: 1.5349 - accuracy: 0.4554 - val_loss: 1.1736 - val_accuracy: 0.5289\n",
      "\n",
      "Epoch 00001: val_accuracy improved from -inf to 0.52893, saving model to /content/drive/My Drive/lstm assginemtn/final_4/LSTM_0.53.hdf5\n",
      "Epoch 2/10\n",
      "540/540 [==============================] - 72s 134ms/step - loss: 0.9490 - accuracy: 0.6463 - val_loss: 0.8750 - val_accuracy: 0.6612\n",
      "\n",
      "Epoch 00002: val_accuracy improved from 0.52893 to 0.66116, saving model to /content/drive/My Drive/lstm assginemtn/final_4/LSTM_0.66.hdf5\n",
      "Epoch 3/10\n",
      "540/540 [==============================] - 72s 133ms/step - loss: 0.6467 - accuracy: 0.7662 - val_loss: 0.9408 - val_accuracy: 0.6694\n",
      "\n",
      "Epoch 00003: val_accuracy improved from 0.66116 to 0.66942, saving model to /content/drive/My Drive/lstm assginemtn/final_4/LSTM_0.67.hdf5\n",
      "Epoch 4/10\n",
      "540/540 [==============================] - 72s 133ms/step - loss: 0.4851 - accuracy: 0.8288 - val_loss: 0.7201 - val_accuracy: 0.7355\n",
      "\n",
      "Epoch 00004: val_accuracy improved from 0.66942 to 0.73554, saving model to /content/drive/My Drive/lstm assginemtn/final_4/LSTM_0.74.hdf5\n",
      "Epoch 5/10\n",
      "540/540 [==============================] - 72s 134ms/step - loss: 0.3727 - accuracy: 0.8786 - val_loss: 0.7222 - val_accuracy: 0.7521\n",
      "\n",
      "Epoch 00005: val_accuracy improved from 0.73554 to 0.75207, saving model to /content/drive/My Drive/lstm assginemtn/final_4/LSTM_0.75.hdf5\n",
      "Epoch 6/10\n",
      "540/540 [==============================] - 72s 134ms/step - loss: 0.3672 - accuracy: 0.8619 - val_loss: 0.7985 - val_accuracy: 0.7438\n",
      "\n",
      "Epoch 00006: val_accuracy did not improve from 0.75207\n",
      "Epoch 7/10\n",
      "540/540 [==============================] - 72s 133ms/step - loss: 0.2653 - accuracy: 0.9146 - val_loss: 0.7765 - val_accuracy: 0.7521\n",
      "\n",
      "Epoch 00007: val_accuracy did not improve from 0.75207\n",
      "Epoch 8/10\n",
      "540/540 [==============================] - 72s 134ms/step - loss: 0.2435 - accuracy: 0.9083 - val_loss: 0.7618 - val_accuracy: 0.7934\n",
      "\n",
      "Epoch 00008: val_accuracy improved from 0.75207 to 0.79339, saving model to /content/drive/My Drive/lstm assginemtn/final_4/LSTM_0.79.hdf5\n",
      "Epoch 9/10\n",
      "540/540 [==============================] - 72s 134ms/step - loss: 0.2607 - accuracy: 0.9014 - val_loss: 0.7685 - val_accuracy: 0.7934\n",
      "\n",
      "Epoch 00009: val_accuracy did not improve from 0.79339\n",
      "Epoch 10/10\n",
      "540/540 [==============================] - 75s 138ms/step - loss: 0.2413 - accuracy: 0.9022 - val_loss: 0.7739 - val_accuracy: 0.7851\n",
      "\n",
      "Epoch 00010: val_accuracy did not improve from 0.79339\n"
     ]
    }
   ],
   "source": [
    "history = model.fit(X_train, Y_train, epochs = 10, batch_size = 2 , validation_split = 0.1, callbacks = callbacks_list)"
   ]
  },
  {
   "cell_type": "code",
   "execution_count": 62,
   "metadata": {
    "colab": {
     "base_uri": "https://localhost:8080/"
    },
    "id": "5vMvVmHzfpfV",
    "outputId": "eb7d3163-a3d8-4916-ff36-d999842d40cf"
   },
   "outputs": [
    {
     "name": "stdout",
     "output_type": "stream",
     "text": [
      "10/10 [==============================] - 0s 23ms/step - loss: 0.7506 - accuracy: 0.7841\n",
      "Test set\n",
      "  Loss: 0.751\n",
      "  Accuracy: 78.405\n"
     ]
    }
   ],
   "source": [
    "# Accuracy\n",
    "accr = model.evaluate(X_test,Y_test)\n",
    "print('Test set\\n  Loss: {:0.3f}\\n  Accuracy: {:0.3f}'.format( accr[0] , (accr[1]) * 100))\n",
    "\n",
    "\n",
    "##### End of model training #####"
   ]
  },
  {
   "cell_type": "code",
   "execution_count": 63,
   "metadata": {
    "colab": {
     "base_uri": "https://localhost:8080/"
    },
    "id": "C0m-HXDFg2kh",
    "outputId": "b8e9626e-1a19-4e95-a2b9-7bcc44433192"
   },
   "outputs": [
    {
     "name": "stdout",
     "output_type": "stream",
     "text": [
      "dict_keys(['loss', 'accuracy', 'val_loss', 'val_accuracy', 'lr'])\n"
     ]
    }
   ],
   "source": [
    "# list all data in history\n",
    "print(history.history.keys())"
   ]
  },
  {
   "cell_type": "code",
   "execution_count": 64,
   "metadata": {
    "colab": {
     "base_uri": "https://localhost:8080/",
     "height": 1000
    },
    "id": "GZr0Vfr-kD8P",
    "outputId": "971aa833-fdfc-4973-acb7-3982a94c0d12"
   },
   "outputs": [
    {
     "data": {
      "image/png": "[encoded data removed]",
      "text/plain": [
       "<Figure size 720x720 with 1 Axes>"
      ]
     },
     "metadata": {
      "tags": []
     },
     "output_type": "display_data"
    },
    {
     "data": {
      "image/png": "[encoded data removed]",
      "text/plain": [
       "<Figure size 720x720 with 1 Axes>"
      ]
     },
     "metadata": {
      "tags": []
     },
     "output_type": "display_data"
    }
   ],
   "source": [
    "# summarize history for accuracy\n",
    "plt.plot(history.history['accuracy'])\n",
    "plt.plot(history.history['val_accuracy'])\n",
    "plt.title('model accuracy')\n",
    "plt.ylabel('accuracy')\n",
    "plt.xlabel('epoch')\n",
    "plt.legend(['train', 'test'], loc='upper left')\n",
    "plt.show()\n",
    "# summarize history for loss\n",
    "plt.plot(history.history['loss'])\n",
    "plt.plot(history.history['val_loss'])\n",
    "plt.title('model loss')\n",
    "plt.ylabel('loss')\n",
    "plt.xlabel('epoch')\n",
    "plt.legend(['train', 'test'], loc='upper left')\n",
    "plt.show()"
   ]
  },
  {
   "cell_type": "code",
   "execution_count": 65,
   "metadata": {
    "colab": {
     "base_uri": "https://localhost:8080/"
    },
    "id": "DpRmHcZPLMWL",
    "outputId": "6413cdc4-644a-41f4-a5a0-62287df0efba"
   },
   "outputs": [
    {
     "name": "stderr",
     "output_type": "stream",
     "text": [
      "/usr/local/lib/python3.7/dist-packages/tensorflow/python/keras/engine/sequential.py:450: UserWarning: `model.predict_classes()` is deprecated and will be removed after 2021-01-01. Please use instead:* `np.argmax(model.predict(x), axis=-1)`,   if your model does multi-class classification   (e.g. if it uses a `softmax` last-layer activation).* `(model.predict(x) > 0.5).astype(\"int32\")`,   if your model does binary classification   (e.g. if it uses a `sigmoid` last-layer activation).\n",
      "  warnings.warn('`model.predict_classes()` is deprecated and '\n"
     ]
    }
   ],
   "source": [
    "y_pred = model.predict_classes(X_test, batch_size = 2)"
   ]
  },
  {
   "cell_type": "code",
   "execution_count": 66,
   "metadata": {
    "colab": {
     "base_uri": "https://localhost:8080/"
    },
    "id": "U_ngKXaVLeY8",
    "outputId": "295e8652-170c-47b6-e55b-37ee659f3079"
   },
   "outputs": [
    {
     "data": {
      "text/plain": [
       "array([0, 0, 3, 1, 2, 3, 3, 3, 3, 1, 3, 1, 3, 2, 3, 3, 0, 3, 3, 0, 5, 3,\n",
       "       5, 3, 0, 3, 3, 3, 2, 3, 3, 3, 4, 3, 1, 3, 2, 0, 0, 3, 3, 2, 3, 3,\n",
       "       3, 3, 3, 3, 5, 1, 3, 3, 3, 0, 3, 3, 3, 3, 3, 3, 3, 5, 0, 2, 2, 2,\n",
       "       1, 0, 4, 2, 1, 1, 3, 2, 3, 3, 2, 0, 1, 1, 3, 1, 5, 3, 2, 3, 1, 3,\n",
       "       3, 3, 1, 2, 3, 3, 0, 3, 2, 3, 1, 3, 5, 5, 3, 3, 0, 3, 2, 0, 2, 3,\n",
       "       3, 3, 3, 1, 0, 3, 0, 1, 3, 2, 2, 3, 3, 3, 1, 4, 2, 1, 2, 3, 1, 1,\n",
       "       1, 3, 0, 3, 1, 2, 2, 3, 2, 3, 3, 0, 2, 1, 5, 0, 3, 1, 3, 3, 2, 2,\n",
       "       3, 3, 3, 2, 3, 3, 2, 0, 1, 2, 3, 0, 3, 2, 3, 3, 0, 2, 3, 3, 4, 2,\n",
       "       3, 2, 0, 1, 3, 4, 1, 0, 2, 2, 1, 2, 3, 2, 1, 1, 2, 3, 3, 1, 3, 2,\n",
       "       0, 3, 5, 1, 3, 3, 1, 2, 3, 0, 2, 3, 3, 3, 3, 3, 3, 2, 2, 3, 3, 3,\n",
       "       3, 3, 3, 3, 3, 1, 3, 0, 0, 3, 3, 3, 1, 3, 2, 3, 1, 1, 3, 3, 1, 1,\n",
       "       3, 3, 3, 1, 1, 3, 2, 5, 0, 1, 1, 2, 3, 3, 3, 3, 2, 3, 3, 2, 0, 0,\n",
       "       1, 1, 3, 0, 1, 5, 3, 0, 3, 5, 3, 3, 1, 3, 3, 3, 0, 4, 3, 0, 2, 3,\n",
       "       5, 3, 3, 3, 3, 3, 3, 0, 2, 5, 3, 3, 0, 1, 0])"
      ]
     },
     "execution_count": 66,
     "metadata": {
      "tags": []
     },
     "output_type": "execute_result"
    }
   ],
   "source": [
    "y_pred"
   ]
  },
  {
   "cell_type": "code",
   "execution_count": 67,
   "metadata": {
    "id": "6tKUnBa7LhIs"
   },
   "outputs": [],
   "source": [
    "import numpy as np\n",
    "y_labels = np.argmax(Y_test , axis = 1)"
   ]
  },
  {
   "cell_type": "code",
   "execution_count": 68,
   "metadata": {
    "colab": {
     "base_uri": "https://localhost:8080/"
    },
    "id": "5Wu5BGGhLkJC",
    "outputId": "54edef45-6cb6-4fd9-9a65-6ddfe64dad20"
   },
   "outputs": [
    {
     "data": {
      "text/plain": [
       "array([0, 0, 3, 1, 4, 3, 3, 3, 3, 1, 3, 1, 3, 0, 5, 3, 0, 3, 3, 1, 5, 3,\n",
       "       5, 3, 0, 3, 3, 3, 3, 3, 3, 1, 4, 3, 1, 3, 3, 0, 0, 3, 3, 2, 3, 2,\n",
       "       3, 3, 3, 3, 5, 1, 3, 3, 3, 2, 3, 3, 2, 3, 1, 2, 3, 5, 2, 2, 3, 1,\n",
       "       1, 1, 4, 2, 3, 1, 3, 2, 3, 3, 5, 0, 1, 3, 1, 3, 2, 3, 2, 3, 3, 0,\n",
       "       2, 1, 3, 2, 0, 3, 0, 3, 2, 3, 1, 3, 5, 5, 3, 3, 0, 2, 2, 0, 2, 5,\n",
       "       5, 3, 3, 2, 0, 2, 0, 1, 3, 2, 2, 3, 3, 3, 1, 4, 2, 3, 0, 3, 1, 1,\n",
       "       1, 3, 0, 3, 1, 1, 2, 3, 3, 3, 3, 0, 2, 3, 5, 0, 3, 1, 3, 3, 1, 2,\n",
       "       3, 4, 3, 2, 3, 3, 3, 0, 1, 2, 3, 0, 3, 3, 3, 3, 0, 4, 3, 3, 4, 2,\n",
       "       3, 2, 1, 1, 1, 4, 3, 0, 2, 2, 1, 3, 5, 2, 3, 1, 2, 3, 3, 1, 3, 2,\n",
       "       0, 3, 5, 1, 3, 3, 1, 2, 3, 0, 2, 3, 3, 3, 3, 3, 1, 2, 3, 5, 2, 1,\n",
       "       3, 3, 3, 3, 3, 3, 3, 0, 0, 3, 3, 3, 1, 3, 2, 3, 1, 1, 1, 3, 1, 1,\n",
       "       2, 3, 0, 1, 1, 3, 2, 2, 0, 1, 1, 2, 3, 3, 3, 3, 2, 3, 3, 2, 0, 3,\n",
       "       1, 1, 3, 3, 1, 5, 3, 0, 3, 1, 3, 3, 1, 3, 3, 3, 0, 3, 3, 0, 2, 3,\n",
       "       5, 3, 3, 3, 6, 3, 3, 1, 2, 5, 3, 3, 0, 1, 0])"
      ]
     },
     "execution_count": 68,
     "metadata": {
      "tags": []
     },
     "output_type": "execute_result"
    }
   ],
   "source": [
    "y_labels"
   ]
  },
  {
   "cell_type": "code",
   "execution_count": 69,
   "metadata": {
    "id": "olXSwELLLlvB"
   },
   "outputs": [],
   "source": [
    "# Making the Confusion Matrix\n",
    "from sklearn.metrics import confusion_matrix\n",
    "cm = confusion_matrix(y_labels, y_pred)"
   ]
  },
  {
   "cell_type": "code",
   "execution_count": 71,
   "metadata": {
    "colab": {
     "base_uri": "https://localhost:8080/",
     "height": 617
    },
    "id": "XKs3d63dLpJw",
    "outputId": "2303ef4f-d2ba-4ea7-e6e4-23dd3ffba703"
   },
   "outputs": [
    {
     "data": {
      "image/png": "[encoded data removed]",
      "text/plain": [
       "<Figure size 720x720 with 2 Axes>"
      ]
     },
     "metadata": {
      "tags": []
     },
     "output_type": "display_data"
    }
   ],
   "source": [
    "import seaborn as sn\n",
    "import matplotlib.pyplot as plt\n",
    "\n",
    "df_cm = pd.DataFrame(cm, range(7), range(7))\n",
    "# plt.figure(figsize=(10,7))\n",
    "sn.set(font_scale=1.4) # for label size\n",
    "sn.heatmap(df_cm, annot=True, annot_kws={\"size\": 16}) # font size\n",
    "\n",
    "plt.show()"
   ]
  },
  {
   "cell_type": "code",
   "execution_count": 74,
   "metadata": {
    "colab": {
     "base_uri": "https://localhost:8080/"
    },
    "id": "0Y-1sUxFLsbF",
    "outputId": "ef865c9f-f39c-4728-d3ac-1528f7de3ce0"
   },
   "outputs": [
    {
     "name": "stdout",
     "output_type": "stream",
     "text": [
      "Saved model to disk\n"
     ]
    }
   ],
   "source": [
    "model_json = model.to_json()\n",
    "with open(\"/content/drive/My Drive/lstm assginemtn/final_model.json\", \"w\") as json_file:\n",
    "    json_file.write(model_json)\n",
    "# serialize weights to HDF5\n",
    "model.save_weights(\"/content/drive/My Drive/lstm assginemtn/final_model.h5\")\n",
    "print(\"Saved model to disk\")"
   ]
  },
  {
   "cell_type": "code",
   "execution_count": null,
   "metadata": {
    "id": "4QK7pbHCMk1i"
   },
   "outputs": [],
   "source": []
  }
 ],
 "metadata": {
  "accelerator": "GPU",
  "colab": {
   "name": "LSTM_Final_Code.ipynb",
   "provenance": []
  },
  "kernelspec": {
   "display_name": "Python 3",
   "language": "python",
   "name": "python3"
  },
  "language_info": {
   "codemirror_mode": {
    "name": "ipython",
    "version": 3
   },
   "file_extension": ".py",
   "mimetype": "text/x-python",
   "name": "python",
   "nbconvert_exporter": "python",
   "pygments_lexer": "ipython3",
   "version": "3.6.4"
  }
 },
 "nbformat": 4,
 "nbformat_minor": 1
}
